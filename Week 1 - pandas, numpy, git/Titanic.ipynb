{
 "cells": [
  {
   "cell_type": "code",
   "execution_count": 8,
   "id": "d5e3846a",
   "metadata": {},
   "outputs": [],
   "source": [
    "import pandas as pd\n",
    "\n",
    "df = pd.read_csv('titanic.csv')\n",
    "\n",
    "# Rename columns to not contain spaces or special characters 2\n",
    "df.columns = df.columns.str.replace(' ', '_').str.replace('/', '_')\n",
    "\n",
    "# For all persons under the age of 18, set \"sex\" column value to be \"child“ 3\n",
    "underage = df.loc[df['Age'] < 18, 'Sex'] = 'child'\n",
    "\n",
    "# Calculate the average fare per sex and Pclass 4 5\n",
    "avg_fare = df.groupby('Sex')[['Fare', 'Pclass']].mean()\n",
    "\n",
    "#Calculate the average fare per survived 6\n",
    "avg_fare_survived = df.groupby('Survived')['Fare'].mean()\n"
   ]
  },
  {
   "cell_type": "code",
   "execution_count": 9,
   "id": "a6b86506",
   "metadata": {},
   "outputs": [
    {
     "name": "stdout",
     "output_type": "stream",
     "text": [
      "Male records: 506\n",
      "Female records: 251\n",
      "Child records: 130\n"
     ]
    }
   ],
   "source": [
    "# 7. Split the DataFrame into 3 DataFrame based on the sex column. So, one for male, \n",
    "# another for female and third for child. How many records does each dataset have?\n",
    "\n",
    "male_df = df[df['Sex'] == 'male']\n",
    "female_df = df[df['Sex'] == 'female']\n",
    "child_df = df[df['Sex'] == 'child']\n",
    "\n",
    "# Print the number of records in each\n",
    "print(\"Male records:\", len(male_df))\n",
    "print(\"Female records:\", len(female_df))\n",
    "print(\"Child records:\", len(child_df))"
   ]
  },
  {
   "cell_type": "code",
   "execution_count": null,
   "id": "3b65b22d",
   "metadata": {},
   "outputs": [
    {
     "name": "stdout",
     "output_type": "stream",
     "text": [
      "     Pclass                                               Name   Age\n",
      "0         3                             Mr. Owen Harris Braund  22.0\n",
      "1         1  Mrs. John Bradley (Florence Briggs Thayer) Cum...  38.0\n",
      "3         1        Mrs. Jacques Heath (Lily May Peel) Futrelle  35.0\n",
      "7         3                      Master. Gosta Leonard Palsson   2.0\n",
      "8         3   Mrs. Oscar W (Elisabeth Vilhelmina Berg) Johnson  27.0\n",
      "..      ...                                                ...   ...\n",
      "870       2               Mrs. Samuel (Hannah Wizosky) Abelson  28.0\n",
      "875       1       Mrs. Thomas Jr (Lily Alexenia Wilson) Potter  56.0\n",
      "876       2        Mrs. William (Imanita Parrish Hall) Shelley  25.0\n",
      "881       3                Mrs. William (Margaret Norton) Rice  39.0\n",
      "884       3                     Miss. Catherine Helen Johnston   7.0\n",
      "\n",
      "[354 rows x 3 columns]\n"
     ]
    }
   ],
   "source": [
    "#8. Create a new DataFrame that only includes Pclass, Name and age, for those persons that had\n",
    "#siblings, spouses, parents or children aboard.\n",
    "\n",
    "family_df = df[(df['Siblings_Spouses_Aboard'] > 0) | (df['Parents_Children_Aboard'] > 0)][['Pclass', 'Name', 'Age']]\n"
   ]
  },
  {
   "cell_type": "code",
   "execution_count": null,
   "id": "83d23340",
   "metadata": {},
   "outputs": [
    {
     "name": "stderr",
     "output_type": "stream",
     "text": [
      "C:\\Users\\SaltDev\\AppData\\Local\\Temp\\ipykernel_13000\\7982540.py:2: UserWarning: Boolean Series key will be reindexed to match DataFrame index.\n",
      "  both_family_df = family_df[\n"
     ]
    },
    {
     "ename": "TypeError",
     "evalue": "bad operand type for unary ~: 'str'",
     "output_type": "error",
     "traceback": [
      "\u001b[31m---------------------------------------------------------------------------\u001b[39m",
      "\u001b[31mTypeError\u001b[39m                                 Traceback (most recent call last)",
      "\u001b[36mCell\u001b[39m\u001b[36m \u001b[39m\u001b[32mIn[20]\u001b[39m\u001b[32m, line 7\u001b[39m\n\u001b[32m      1\u001b[39m \u001b[38;5;66;03m# 9. Filter off those persons who had both siblings/spouses AND parents/children.\u001b[39;00m\n\u001b[32m      2\u001b[39m both_family_df = family_df[\n\u001b[32m      3\u001b[39m     (df[\u001b[33m'\u001b[39m\u001b[33mSiblings_Spouses_Aboard\u001b[39m\u001b[33m'\u001b[39m] > \u001b[32m0\u001b[39m) &\n\u001b[32m      4\u001b[39m     (df[\u001b[33m'\u001b[39m\u001b[33mParents_Children_Aboard\u001b[39m\u001b[33m'\u001b[39m] > \u001b[32m0\u001b[39m)\n\u001b[32m      5\u001b[39m ]\n\u001b[32m----> \u001b[39m\u001b[32m7\u001b[39m only_one_family = family_df[\u001b[43m~\u001b[49m\u001b[43mboth_family_df\u001b[49m]\n\u001b[32m      9\u001b[39m \u001b[38;5;28mprint\u001b[39m(only_one_family)\n",
      "\u001b[36mFile \u001b[39m\u001b[32mc:\\Users\\SaltDev\\Documents\\Lishas kod\\.venv\\Lib\\site-packages\\pandas\\core\\generic.py:1571\u001b[39m, in \u001b[36mNDFrame.__invert__\u001b[39m\u001b[34m(self)\u001b[39m\n\u001b[32m   1567\u001b[39m \u001b[38;5;28;01mif\u001b[39;00m \u001b[38;5;129;01mnot\u001b[39;00m \u001b[38;5;28mself\u001b[39m.size:\n\u001b[32m   1568\u001b[39m     \u001b[38;5;66;03m# inv fails with 0 len\u001b[39;00m\n\u001b[32m   1569\u001b[39m     \u001b[38;5;28;01mreturn\u001b[39;00m \u001b[38;5;28mself\u001b[39m.copy(deep=\u001b[38;5;28;01mFalse\u001b[39;00m)\n\u001b[32m-> \u001b[39m\u001b[32m1571\u001b[39m new_data = \u001b[38;5;28;43mself\u001b[39;49m\u001b[43m.\u001b[49m\u001b[43m_mgr\u001b[49m\u001b[43m.\u001b[49m\u001b[43mapply\u001b[49m\u001b[43m(\u001b[49m\u001b[43moperator\u001b[49m\u001b[43m.\u001b[49m\u001b[43minvert\u001b[49m\u001b[43m)\u001b[49m\n\u001b[32m   1572\u001b[39m res = \u001b[38;5;28mself\u001b[39m._constructor_from_mgr(new_data, axes=new_data.axes)\n\u001b[32m   1573\u001b[39m \u001b[38;5;28;01mreturn\u001b[39;00m res.__finalize__(\u001b[38;5;28mself\u001b[39m, method=\u001b[33m\"\u001b[39m\u001b[33m__invert__\u001b[39m\u001b[33m\"\u001b[39m)\n",
      "\u001b[36mFile \u001b[39m\u001b[32mc:\\Users\\SaltDev\\Documents\\Lishas kod\\.venv\\Lib\\site-packages\\pandas\\core\\internals\\managers.py:361\u001b[39m, in \u001b[36mBaseBlockManager.apply\u001b[39m\u001b[34m(self, f, align_keys, **kwargs)\u001b[39m\n\u001b[32m    358\u001b[39m             kwargs[k] = obj[b.mgr_locs.indexer]\n\u001b[32m    360\u001b[39m \u001b[38;5;28;01mif\u001b[39;00m \u001b[38;5;28mcallable\u001b[39m(f):\n\u001b[32m--> \u001b[39m\u001b[32m361\u001b[39m     applied = \u001b[43mb\u001b[49m\u001b[43m.\u001b[49m\u001b[43mapply\u001b[49m\u001b[43m(\u001b[49m\u001b[43mf\u001b[49m\u001b[43m,\u001b[49m\u001b[43m \u001b[49m\u001b[43m*\u001b[49m\u001b[43m*\u001b[49m\u001b[43mkwargs\u001b[49m\u001b[43m)\u001b[49m\n\u001b[32m    362\u001b[39m \u001b[38;5;28;01melse\u001b[39;00m:\n\u001b[32m    363\u001b[39m     applied = \u001b[38;5;28mgetattr\u001b[39m(b, f)(**kwargs)\n",
      "\u001b[36mFile \u001b[39m\u001b[32mc:\\Users\\SaltDev\\Documents\\Lishas kod\\.venv\\Lib\\site-packages\\pandas\\core\\internals\\blocks.py:395\u001b[39m, in \u001b[36mBlock.apply\u001b[39m\u001b[34m(self, func, **kwargs)\u001b[39m\n\u001b[32m    389\u001b[39m \u001b[38;5;129m@final\u001b[39m\n\u001b[32m    390\u001b[39m \u001b[38;5;28;01mdef\u001b[39;00m\u001b[38;5;250m \u001b[39m\u001b[34mapply\u001b[39m(\u001b[38;5;28mself\u001b[39m, func, **kwargs) -> \u001b[38;5;28mlist\u001b[39m[Block]:\n\u001b[32m    391\u001b[39m \u001b[38;5;250m    \u001b[39m\u001b[33;03m\"\"\"\u001b[39;00m\n\u001b[32m    392\u001b[39m \u001b[33;03m    apply the function to my values; return a block if we are not\u001b[39;00m\n\u001b[32m    393\u001b[39m \u001b[33;03m    one\u001b[39;00m\n\u001b[32m    394\u001b[39m \u001b[33;03m    \"\"\"\u001b[39;00m\n\u001b[32m--> \u001b[39m\u001b[32m395\u001b[39m     result = \u001b[43mfunc\u001b[49m\u001b[43m(\u001b[49m\u001b[38;5;28;43mself\u001b[39;49m\u001b[43m.\u001b[49m\u001b[43mvalues\u001b[49m\u001b[43m,\u001b[49m\u001b[43m \u001b[49m\u001b[43m*\u001b[49m\u001b[43m*\u001b[49m\u001b[43mkwargs\u001b[49m\u001b[43m)\u001b[49m\n\u001b[32m    397\u001b[39m     result = maybe_coerce_values(result)\n\u001b[32m    398\u001b[39m     \u001b[38;5;28;01mreturn\u001b[39;00m \u001b[38;5;28mself\u001b[39m._split_op_result(result)\n",
      "\u001b[31mTypeError\u001b[39m: bad operand type for unary ~: 'str'"
     ]
    }
   ],
   "source": [
    "# 9. Filter off those persons who had both siblings/spouses AND parents/children.\n",
    "both_family_df = family_df[\n",
    "    (df['Siblings_Spouses_Aboard'] > 0) &\n",
    "    (df['Parents_Children_Aboard'] > 0)\n",
    "]\n",
    "\n",
    "print(family_df.dtypes)\n",
    "print(both_family_df.dtypes)\n",
    "\n",
    "only_one_family = family_df[~both_family_df]\n",
    "\n",
    "print(only_one_family)"
   ]
  }
 ],
 "metadata": {
  "kernelspec": {
   "display_name": ".venv",
   "language": "python",
   "name": "python3"
  },
  "language_info": {
   "codemirror_mode": {
    "name": "ipython",
    "version": 3
   },
   "file_extension": ".py",
   "mimetype": "text/x-python",
   "name": "python",
   "nbconvert_exporter": "python",
   "pygments_lexer": "ipython3",
   "version": "3.13.3"
  }
 },
 "nbformat": 4,
 "nbformat_minor": 5
}
