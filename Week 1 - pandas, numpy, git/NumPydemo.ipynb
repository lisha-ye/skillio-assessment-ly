{
 "cells": [
  {
   "cell_type": "markdown",
   "id": "10d97853",
   "metadata": {},
   "source": [
    "1. Min and Max:\n",
    "Create a 1D NumPy array with 12 random integers between 5 and 50. Find the minimum and maximum values in the array.\n",
    "2. Median and Mean :\n",
    "Create a 1D NumPy array with 15 random integers between 1 and 10. Calculate the median and mean.\n",
    "3. Mean:\n",
    "Generate an array of 25 random floats between -100 and 100. Round each float to the nearest integer.\n",
    "4. Min, Max:\n",
    "Create a 2D NumPy array with shape (3, 4) containing random integers between 1 and 100. Find the minimum and maximum\n",
    "values in the entire array.\n",
    "5. Mathematical operations\n",
    "Pick a 1D array from previous exercises, and add 1 to it (like, arr + 1) Observe the results.\n",
    "Extra: Mathematical operations continued\n",
    "Try out matrix multiplication: Create two 2D arrays, and multiply them together.\n",
    "Extra: Broadcasting\n",
    "Test and observe how broadcasting works"
   ]
  },
  {
   "cell_type": "code",
   "execution_count": 2,
   "id": "27a642f3",
   "metadata": {},
   "outputs": [
    {
     "name": "stdout",
     "output_type": "stream",
     "text": [
      "1\n",
      "12\n",
      "3.0\n",
      "4.266666666666667\n",
      "95\n",
      "8\n",
      "[10  8  2  8  8  2  6  2 10  9 11 10  4  3  2]\n"
     ]
    }
   ],
   "source": [
    "import numpy as np\n",
    "\n",
    "step1 = np.array([1, 2, 3, 4, 5, 6, 7, 8, 9, 10, 11, 12])\n",
    "\n",
    "print(np.min(step1))\n",
    "print(np.max(step1))\n",
    "\n",
    "step2 = np.random.randint(1, 11, size=15)\n",
    "print(np.median(step2))\n",
    "print(np.mean(step2))\n",
    "\n",
    "step3 = np.random.normal(-100, 101, size=25)\n",
    "step3_int = step3.astype(int)\n",
    "\n",
    "step4 = np.random.randint(1, 101, size=(3, 4))\n",
    "print(np.max(step4))\n",
    "print(np.min(step4))\n",
    "\n",
    "step5 = step2 = np.random.randint(1, 11, size=15)\n",
    "print(step5 + 1)"
   ]
  },
  {
   "cell_type": "markdown",
   "id": "6b5eedc1",
   "metadata": {},
   "source": [
    "Python exercise\n",
    "Objective: Construct and manipulate a simulated e-commerce transactions dataset to practice data wrangling\n",
    "techniques using Pandas and NumPy. The exercise will involve generating synthetic data, handling data in JSON\n",
    "format, and performing various data wrangling tasks.\n",
    "\n",
    "Part 1: Data generation\n",
    "1. User data generation\n",
    "• Generate a synthetic dataset of users with the following details: user ID, name, email, and signup date. Use\n",
    "NumPy for generating user IDs and signup dates, and any method for fake name and email generation.\n",
    "2. Product catalogue\n",
    "• Create a product catalogue with product ID, product name, category, and price. You can manually create\n",
    "this dataset or generate it synthetically.\n",
    "3. Transactions data\n",
    "• Simulate transaction data that includes transaction ID, user ID, product ID, quantity, and transaction date.\n",
    "Ensure the transaction dates and quantities are randomly generated to simulate real purchase behaviour"
   ]
  },
  {
   "cell_type": "code",
   "execution_count": 9,
   "id": "2b1b7ff9",
   "metadata": {},
   "outputs": [
    {
     "ename": "ImportError",
     "evalue": "cannot import name 'pd' from 'pandas' (c:\\Users\\SaltDev\\Documents\\Lishas kod\\.venv\\Lib\\site-packages\\pandas\\__init__.py)",
     "output_type": "error",
     "traceback": [
      "\u001b[31m---------------------------------------------------------------------------\u001b[39m",
      "\u001b[31mImportError\u001b[39m                               Traceback (most recent call last)",
      "\u001b[36mCell\u001b[39m\u001b[36m \u001b[39m\u001b[32mIn[9]\u001b[39m\u001b[32m, line 4\u001b[39m\n\u001b[32m      2\u001b[39m \u001b[38;5;28;01mimport\u001b[39;00m\u001b[38;5;250m \u001b[39m\u001b[34;01mdatetime\u001b[39;00m\n\u001b[32m      3\u001b[39m \u001b[38;5;28;01mfrom\u001b[39;00m\u001b[38;5;250m \u001b[39m\u001b[34;01mfaker\u001b[39;00m\u001b[38;5;250m \u001b[39m\u001b[38;5;28;01mimport\u001b[39;00m Faker\n\u001b[32m----> \u001b[39m\u001b[32m4\u001b[39m \u001b[38;5;28;01mfrom\u001b[39;00m\u001b[38;5;250m \u001b[39m\u001b[34;01mpandas\u001b[39;00m\u001b[38;5;250m \u001b[39m\u001b[38;5;28;01mimport\u001b[39;00m pd\n\u001b[32m      6\u001b[39m \u001b[38;5;66;03m# Date range\u001b[39;00m\n\u001b[32m      7\u001b[39m start_date = datetime.date(\u001b[32m2023\u001b[39m, \u001b[32m1\u001b[39m, \u001b[32m1\u001b[39m)\n",
      "\u001b[31mImportError\u001b[39m: cannot import name 'pd' from 'pandas' (c:\\Users\\SaltDev\\Documents\\Lishas kod\\.venv\\Lib\\site-packages\\pandas\\__init__.py)"
     ]
    }
   ],
   "source": [
    "import numpy as np\n",
    "import datetime\n",
    "from faker import Faker\n",
    "from pandas import pd\n",
    "\n",
    "# Date range\n",
    "start_date = datetime.date(2023, 1, 1)\n",
    "end_date = datetime.date(2025, 12, 31)\n",
    "\n",
    "# Total days in range\n",
    "days_range = (end_date - start_date).days\n",
    "\n",
    "# Generate 10 random day offsets and convert to dates\n",
    "random_days = np.random.randint(0, days_range, size=10)\n",
    "random_dates = [start_date + datetime.timedelta(days=int(day)) for day in random_days]\n",
    "\n",
    "# Generate 10 unique random IDs\n",
    "random_ids = np.random.permutation(np.arange(1000, 9999))[:10]\n",
    "\n",
    "# Initialize Faker\n",
    "fake = Faker()\n",
    "\n",
    "# Combine everything into a list of dictionaries\n",
    "data = [{\n",
    "    'ID': int(random_ids[i]),\n",
    "    'Name': fake.name(),\n",
    "    'Email': fake.email(),\n",
    "    'Date': random_dates[i].strftime('%Y-%m-%d')\n",
    "} for i in range(10)]\n",
    "\n",
    "# Print the result\n",
    "for person in data:\n",
    "    print(person)"
   ]
  },
  {
   "cell_type": "code",
   "execution_count": null,
   "id": "c2172448",
   "metadata": {},
   "outputs": [],
   "source": []
  },
  {
   "cell_type": "code",
   "execution_count": 7,
   "id": "c78a7c5c",
   "metadata": {},
   "outputs": [
    {
     "name": "stdout",
     "output_type": "stream",
     "text": [
      "[3485 4217 8641 1131 5038] ['TV', 'Barbie', 'Laundry Basket', 'Hose', 'Skirt'] ['Electronics', 'Toys', 'Home', 'Garden', 'Clothing'] [1115 1520  893 4920 4963]\n"
     ]
    }
   ],
   "source": [
    "#numpy\n",
    "product_ID = np.random.randint(1000, 9999, size=5)\n",
    "product_price = np.random.randint(50, 5000, size=5)\n",
    "\n",
    "product_name = ['TV', 'Barbie', 'Laundry Basket', 'Hose', 'Skirt']\n",
    "product_category = ['Electronics', 'Toys', 'Home', 'Garden', 'Clothing']\n",
    "\n",
    "print(product_ID, product_name, product_category, product_price)\n",
    "\n",
    "#pandas df\n",
    "#df_catalogue = pd.DataFrame[{\n"
   ]
  },
  {
   "cell_type": "code",
   "execution_count": 8,
   "id": "e8daaa27",
   "metadata": {},
   "outputs": [
    {
     "ename": "NameError",
     "evalue": "name 'pd' is not defined",
     "output_type": "error",
     "traceback": [
      "\u001b[31m---------------------------------------------------------------------------\u001b[39m",
      "\u001b[31mNameError\u001b[39m                                 Traceback (most recent call last)",
      "\u001b[36mCell\u001b[39m\u001b[36m \u001b[39m\u001b[32mIn[8]\u001b[39m\u001b[32m, line 3\u001b[39m\n\u001b[32m      1\u001b[39m \u001b[38;5;66;03m#pandas df\u001b[39;00m\n\u001b[32m      2\u001b[39m catalogue = product_ID, product_price, product_name, product_category\n\u001b[32m----> \u001b[39m\u001b[32m3\u001b[39m df_catalogue = \u001b[43mpd\u001b[49m.DataFrame(catalogue)\n\u001b[32m      6\u001b[39m \u001b[38;5;28mprint\u001b[39m(df_catalogue)\n",
      "\u001b[31mNameError\u001b[39m: name 'pd' is not defined"
     ]
    }
   ],
   "source": [
    "\n",
    "#pandas df\n",
    "catalogue = product_ID, product_price, product_name, product_category\n",
    "df_catalogue = pd.DataFrame(catalogue)\n",
    "\n",
    "\n",
    "print(df_catalogue)"
   ]
  }
 ],
 "metadata": {
  "kernelspec": {
   "display_name": ".venv",
   "language": "python",
   "name": "python3"
  },
  "language_info": {
   "codemirror_mode": {
    "name": "ipython",
    "version": 3
   },
   "file_extension": ".py",
   "mimetype": "text/x-python",
   "name": "python",
   "nbconvert_exporter": "python",
   "pygments_lexer": "ipython3",
   "version": "3.13.3"
  }
 },
 "nbformat": 4,
 "nbformat_minor": 5
}
