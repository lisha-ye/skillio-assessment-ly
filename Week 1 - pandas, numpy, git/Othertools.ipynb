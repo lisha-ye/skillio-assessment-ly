{
 "cells": [
  {
   "cell_type": "markdown",
   "id": "95480cfe",
   "metadata": {},
   "source": [
    "Exercise 1: Python’s own statistics library\n",
    "Write a program that:\n",
    "1. Takes numbers as input from a user. User needs to be able to input multiple numbers.\n",
    "2. Counts and prints:\n",
    "1. Minimum (min)\n",
    "2. Maximum (max)\n",
    "3. Sum\n",
    "4. Mean\n",
    "5. Median\n",
    "6. Mode"
   ]
  },
  {
   "cell_type": "code",
   "execution_count": null,
   "id": "ac921187",
   "metadata": {},
   "outputs": [],
   "source": [
    "import math\n",
    "\n",
    "def numbers_sum():\n",
    "    numbers +\n",
    "    times = 0\n",
    "    times += 1\n",
    "    \n",
    "\n",
    "while True:\n",
    "    numbers = int(input(\"Number: \")) \n"
   ]
  },
  {
   "cell_type": "markdown",
   "id": "cd8238ae",
   "metadata": {},
   "source": [
    "Exercise 2: Introduction to handling JSON\n",
    "1. Import json library\n",
    "2. Create the following Python dictionary:\n",
    "3. Encode Python dictionary to JSON string\n",
    "4. Add”bookmark-page”: 55\n",
    "5. Write JSON to a file\n",
    "6. Read JSON from a file\n",
    "7. Print name and bookmark-page\n",
    "\n",
    "https://www.w3schools.com/js/js_json_syntax.asp\n",
    "https://www.geeksforgeeks.org/reading-and-writing-json-to-a-file-in-python/"
   ]
  },
  {
   "cell_type": "code",
   "execution_count": null,
   "id": "6f0fc17f",
   "metadata": {},
   "outputs": [
    {
     "name": "stdout",
     "output_type": "stream",
     "text": [
      "JSON String:  {\n",
      "  \"name\": \"Book of the knowledge\",\n",
      "  \"rarity\": \"common\",\n",
      "  \"durability\": 100\n",
      "}\n"
     ]
    }
   ],
   "source": [
    "import json\n",
    "\n",
    "item = {\n",
    "\"name\": \"Book of the knowledge\",\n",
    "\"rarity\": \"common\",\n",
    "\"durability\": 100,\n",
    "}\n",
    "\n",
    "json_string = json.dumps(item, indent=2) # indent for readability\n",
    "\n",
    "json_string.dumps()\n",
    "\n",
    "print(\"JSON String: \", json_string)"
   ]
  }
 ],
 "metadata": {
  "kernelspec": {
   "display_name": ".venv",
   "language": "python",
   "name": "python3"
  },
  "language_info": {
   "codemirror_mode": {
    "name": "ipython",
    "version": 3
   },
   "file_extension": ".py",
   "mimetype": "text/x-python",
   "name": "python",
   "nbconvert_exporter": "python",
   "pygments_lexer": "ipython3",
   "version": "3.13.3"
  }
 },
 "nbformat": 4,
 "nbformat_minor": 5
}
