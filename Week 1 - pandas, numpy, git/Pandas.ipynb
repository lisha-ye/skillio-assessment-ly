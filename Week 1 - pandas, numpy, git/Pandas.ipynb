{
 "cells": [
  {
   "cell_type": "markdown",
   "id": "788a3587",
   "metadata": {},
   "source": [
    "Exercise 1 part 1\n",
    "1. Creating dataframes: Create a DataFrame with three columns: 'Name', 'Age', and 'Score'. Populate it with random data with five\n",
    "individuals.\n",
    "2. Indexing and slicing: Set the 'Name' column as the index of the DataFrame created in exercise 1. Then, slice the DataFrame to\n",
    "display information about individuals with ages greater than 25.\n",
    "3. Data type conversion: Convert the data type of the 'Score' column to float in the DataFrame created in exercise 1.\n",
    "4. Grouping and aggregation: Group the DataFrame from exercise 1 by the 'Age' column and calculate the mean score for each\n",
    "age group. (ensure there is at least 2 Ages that are the same in this dataset)\n",
    "5. Handling missing data: Introduce some missing values (NaN) in the 'Score' column of the DataFrame from exercise 3. Use the\n",
    "fillna() function to fill these missing values with the mean score.\n"
   ]
  },
  {
   "cell_type": "code",
   "execution_count": 110,
   "id": "98927095",
   "metadata": {},
   "outputs": [
    {
     "name": "stdout",
     "output_type": "stream",
     "text": [
      "         age  score\n",
      "name               \n",
      "Alice     15   50.0\n",
      "Bob       55   60.0\n",
      "Charlie   89   70.0\n",
      "David     15    NaN\n",
      "Eve       23    NaN\n"
     ]
    }
   ],
   "source": [
    "import pandas as pd\n",
    "\n",
    "#Creating a DataFrame manually\n",
    "df = pd.DataFrame({\n",
    "    'name': ['Alice', 'Bob', 'Charlie', 'David', 'Eve'],\n",
    "    'age': [15, 55, 89, 15, 23],\n",
    "    'score': [50, 60, 70, None, None],\n",
    "})\n",
    "\n",
    "# Indexing 'name'\n",
    "df = df.set_index('name')\n",
    "print(df)\n"
   ]
  },
  {
   "cell_type": "code",
   "execution_count": 111,
   "id": "7f30bfca",
   "metadata": {},
   "outputs": [
    {
     "name": "stdout",
     "output_type": "stream",
     "text": [
      "         age  score\n",
      "name               \n",
      "Bob       55   60.0\n",
      "Charlie   89   70.0\n"
     ]
    }
   ],
   "source": [
    "# Sorting based on age\n",
    "ages = df[df['age'] > 25]\n",
    "print(ages)"
   ]
  },
  {
   "cell_type": "code",
   "execution_count": 112,
   "id": "682e5fb5",
   "metadata": {},
   "outputs": [
    {
     "name": "stdout",
     "output_type": "stream",
     "text": [
      "name\n",
      "Alice      50.0\n",
      "Bob        60.0\n",
      "Charlie    70.0\n",
      "David       NaN\n",
      "Eve         NaN\n",
      "Name: score, dtype: float64\n"
     ]
    }
   ],
   "source": [
    "# Convert score to float\n",
    "df['score'] = df['score'].astype(float)\n",
    "print(df['score'])"
   ]
  },
  {
   "cell_type": "code",
   "execution_count": 113,
   "id": "a176a27b",
   "metadata": {},
   "outputs": [
    {
     "name": "stdout",
     "output_type": "stream",
     "text": [
      "     score\n",
      "age       \n",
      "15    50.0\n",
      "23     NaN\n",
      "55    60.0\n",
      "89    70.0\n"
     ]
    }
   ],
   "source": [
    "# Group by age and calculate mean\n",
    "aged = df.groupby('age').mean()\n",
    "print(aged)"
   ]
  },
  {
   "cell_type": "code",
   "execution_count": 114,
   "id": "af0e21e4",
   "metadata": {},
   "outputs": [
    {
     "name": "stdout",
     "output_type": "stream",
     "text": [
      "         age  score\n",
      "name               \n",
      "Alice     15   50.0\n",
      "Bob       55   60.0\n",
      "Charlie   89   70.0\n",
      "David     15   65.0\n",
      "Eve       23   65.0\n"
     ]
    }
   ],
   "source": [
    "#Fill in the missing pieces\n",
    "empty = df.fillna(65)\n",
    "print(empty)"
   ]
  },
  {
   "cell_type": "markdown",
   "id": "ad5023a5",
   "metadata": {},
   "source": [
    "Exercise 1 part 2\n",
    "6. Concatenation: Create another DataFrame with three columns: 'Name', 'Age', and 'Occupation' for five different individuals. Use\n",
    "concat() to concatenate this new DataFrame with the one from exercise 1.\n",
    "7. Merging: Create two DataFrames, one with 'ID', 'Name', and 'Age', and the other with 'ID', 'Occupation', and 'Salary'. Use merge()\n",
    "to merge these DataFrames based on the 'ID' column.\n",
    "8. Datetime manipulation: Create a DataFrame with a 'Date' column containing date strings in the format 'YYYY-MM-DD'. Use\n",
    "to_datetime() to convert this column to a datetime format.\n",
    "9. Renaming columns: Rename the columns in the DataFrame from exercise 8 to 'EventDate' for the 'Date' column and\n",
    "'EventValue' for another randomly chosen column.\n",
    "10. Uniqueness: Create a DataFrame with a column containing repetitive values. Use the unique() function to display the unique\n",
    "values in that column."
   ]
  },
  {
   "cell_type": "code",
   "execution_count": 115,
   "id": "2017f4fa",
   "metadata": {},
   "outputs": [
    {
     "name": "stdout",
     "output_type": "stream",
     "text": [
      "         age  score     name  occupation\n",
      "Alice     15   50.0      NaN         NaN\n",
      "Bob       55   60.0      NaN         NaN\n",
      "Charlie   89   70.0      NaN         NaN\n",
      "David     15    NaN      NaN         NaN\n",
      "Eve       23    NaN      NaN         NaN\n",
      "0         15    NaN    Alice     student\n",
      "1         55    NaN      Bob      doctor\n",
      "2         89    NaN  Charlie     retiree\n",
      "3         15    NaN    David  unemployed\n",
      "4         23    NaN      Eve     dentist\n"
     ]
    }
   ],
   "source": [
    "#Concatenation\n",
    "df2 = pd.DataFrame({\n",
    "    'name': ['Alice', 'Bob', 'Charlie', 'David', 'Eve'],\n",
    "    'age': [15, 55, 89, 15, 23],\n",
    "    'occupation': ['student', 'doctor', 'retiree', 'unemployed', 'dentist'],\n",
    "})\n",
    "\n",
    "combo = pd.concat([df, df2])\n",
    "print(combo)\n"
   ]
  },
  {
   "cell_type": "code",
   "execution_count": 135,
   "id": "5c49b65f",
   "metadata": {},
   "outputs": [
    {
     "name": "stdout",
     "output_type": "stream",
     "text": [
      "    ID     name  age  occupation  salary\n",
      "0  123    Alice   15     student   10000\n",
      "1  124      Bob   55      doctor   20000\n",
      "2  125  Charlie   89     retiree   50000\n",
      "3  126    David   15  unemployed   60000\n",
      "4  127      Eve   23     dentist   70000\n"
     ]
    }
   ],
   "source": [
    "#Merging\n",
    "\n",
    "name_age = pd.DataFrame({\n",
    "    'ID': [123, 124, 125, 126, 127],\n",
    "    'name': ['Alice', 'Bob', 'Charlie', 'David', 'Eve'],\n",
    "    'age': [15, 55, 89, 15, 23],\n",
    "})\n",
    "\n",
    "\n",
    "salary_occup = pd.DataFrame({\n",
    "    'ID': [123, 124, 125, 126, 127],\n",
    "    'occupation': ['student', 'doctor', 'retiree', 'unemployed', 'dentist'],\n",
    "    'salary': [10000, 20000, 50000, 60000, 70000],\n",
    "})\n",
    "\n",
    "merged = pd.merge(name_age, salary_occup, on='ID')\n",
    "print(merged)\n",
    "\n"
   ]
  },
  {
   "cell_type": "code",
   "execution_count": 165,
   "id": "c2b5b247",
   "metadata": {},
   "outputs": [
    {
     "name": "stdout",
     "output_type": "stream",
     "text": [
      "        date\n",
      "0 1995-04-01\n",
      "1 1995-04-02\n",
      "2 1995-04-03\n",
      "3 1995-04-04\n",
      "4 1995-04-05\n"
     ]
    }
   ],
   "source": [
    "#Date\n",
    "date = pd.DataFrame({'date': ['1995-04-01', '1995-04-02', '1995-04-03', '1995-04-04', '1995-04-05']})\n",
    "\n",
    "date['date'] = pd.to_datetime(date['date'])\n",
    "print(date)"
   ]
  },
  {
   "cell_type": "code",
   "execution_count": 169,
   "id": "d8439713",
   "metadata": {},
   "outputs": [
    {
     "name": "stdout",
     "output_type": "stream",
     "text": [
      "   EventDate\n",
      "0 1995-04-01\n",
      "1 1995-04-02\n",
      "2 1995-04-03\n",
      "3 1995-04-04\n",
      "4 1995-04-05\n"
     ]
    }
   ],
   "source": [
    "date = date.rename(columns={'date': 'EventDate'})\n",
    "print(date)"
   ]
  }
 ],
 "metadata": {
  "kernelspec": {
   "display_name": ".venv",
   "language": "python",
   "name": "python3"
  },
  "language_info": {
   "codemirror_mode": {
    "name": "ipython",
    "version": 3
   },
   "file_extension": ".py",
   "mimetype": "text/x-python",
   "name": "python",
   "nbconvert_exporter": "python",
   "pygments_lexer": "ipython3",
   "version": "3.13.3"
  }
 },
 "nbformat": 4,
 "nbformat_minor": 5
}
